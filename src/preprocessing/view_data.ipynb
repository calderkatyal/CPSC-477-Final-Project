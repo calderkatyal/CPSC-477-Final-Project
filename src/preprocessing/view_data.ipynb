{
 "cells": [
  {
   "cell_type": "code",
   "execution_count": null,
   "metadata": {},
   "outputs": [],
   "source": [
    "# Import required modules\n",
    "import os\n",
    "import pandas as pd\n",
    "from preprocess import preprocess_emails\n",
    "from tqdm import tqdm\n",
    "import logging\n",
    "\n",
    "# Set up logging to show in notebook\n",
    "logging.basicConfig(\n",
    "    level=logging.INFO,\n",
    "    format='%(asctime)s - %(levelname)s - %(message)s'\n",
    ")\n",
    "logger = logging.getLogger(__name__)\n",
    "\n",
    "# Get paths\n",
    "BASE_DIR = os.path.abspath(os.path.join(os.path.dirname('__file__'), '..', '..'))\n",
    "RAW_CSV_PATH = os.path.join(BASE_DIR, 'data', 'raw', 'emails.csv')\n",
    "PROCESSED_PATH = os.path.join(BASE_DIR, 'data', 'processed', 'emails.parquet')\n",
    "\n",
    "# First check if raw data exists\n",
    "if not os.path.exists(RAW_CSV_PATH):\n",
    "    raise FileNotFoundError(f\"Raw data not found at {RAW_CSV_PATH}\")\n",
    "\n",
    "# Check raw data size\n",
    "raw_df = pd.read_csv(RAW_CSV_PATH)\n",
    "logger.info(f\"Found {len(raw_df)} emails in raw data\")\n",
    "logger.info(f\"Raw data columns: {raw_df.columns.tolist()}\")\n",
    "\n",
    "# Process emails with progress tracking\n",
    "logger.info(\"Starting preprocessing...\")\n",
    "person_dfs = preprocess_emails(RAW_CSV_PATH, PROCESSED_PATH)\n",
    "logger.info(f\"Processed emails for {len(person_dfs)} people\")\n",
    "\n",
    "# Show some examples\n",
    "print(\"\\nExample processed emails:\")\n",
    "print(\"=\" * 50)\n",
    "for person, df in list(person_dfs.items())[:3]:  # Show first 3 people\n",
    "    print(f\"\\nEmails for {person}:\")\n",
    "    print(\"-\" * 50)\n",
    "    for i in range(min(2, len(df))):  # Show first 2 emails per person\n",
    "        print(f\"\\nEmail {i+1}:\")\n",
    "        print(f\"Subject: {df['subject'].iloc[i]}\")\n",
    "        print(f\"Date: {df['date'].iloc[i]}\")\n",
    "        print(f\"Direction: {df['direction'].iloc[i]}\")\n",
    "        print(\"\\nCleaned body:\")\n",
    "        print(df['body'].iloc[i])\n",
    "        print(\"\\n\" + \"=\"*50)\n",
    "\n",
    "# Print some statistics\n",
    "print(\"\\nDataset Statistics:\")\n",
    "print(\"-\" * 50)\n",
    "total_emails = sum(len(df) for df in person_dfs.values())\n",
    "print(f\"Total emails processed: {total_emails}\")\n",
    "print(f\"Number of unique people: {len(person_dfs)}\")\n",
    "print(\"\\nEmails per person:\")\n",
    "for person, df in person_dfs.items():\n",
    "    print(f\"{person}: {len(df)} emails\")"
   ]
  },
  {
   "cell_type": "markdown",
   "metadata": {},
   "source": []
  }
 ],
 "metadata": {
  "kernelspec": {
   "display_name": "CPSC477V2",
   "language": "python",
   "name": "python3"
  },
  "language_info": {
   "codemirror_mode": {
    "name": "ipython",
    "version": 3
   },
   "file_extension": ".py",
   "mimetype": "text/x-python",
   "name": "python",
   "nbconvert_exporter": "python",
   "pygments_lexer": "ipython3",
   "version": "3.12.9"
  }
 },
 "nbformat": 4,
 "nbformat_minor": 2
}
