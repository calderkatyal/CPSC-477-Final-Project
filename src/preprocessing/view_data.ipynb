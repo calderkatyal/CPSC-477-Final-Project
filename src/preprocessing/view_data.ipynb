{
 "cells": [
  {
   "cell_type": "code",
   "execution_count": 12,
   "metadata": {},
   "outputs": [
    {
     "name": "stderr",
     "output_type": "stream",
     "text": [
      "2025-03-29 15:57:15,303 - INFO - Inspecting raw data...\n",
      "2025-03-29 15:57:25,391 - INFO - Dataset contains 517401 raw emails\n",
      "2025-03-29 15:57:25,392 - INFO - Columns: ['file', 'message']\n",
      "2025-03-29 15:57:25,392 - INFO - \n",
      "Sample raw messages:\n",
      "2025-03-29 15:57:25,393 - INFO - \n",
      "Starting preprocessing pipeline...\n",
      "2025-03-29 15:57:25,393 - INFO - Loading raw emails...\n"
     ]
    },
    {
     "name": "stdout",
     "output_type": "stream",
     "text": [
      "[\"Message-ID: <18782981.1075855378110.JavaMail.evans@thyme>\\nDate: Mon, 14 May 2001 16:39:00 -0700 (PDT)\\nFrom: phillip.allen@enron.com\\nTo: tim.belden@enron.com\\nSubject: \\nMime-Version: 1.0\\nContent-Type: text/plain; charset=us-ascii\\nContent-Transfer-Encoding: 7bit\\nX-From: Phillip K Allen\\nX-To: Tim Belden <Tim Belden/Enron@EnronXGate>\\nX-cc: \\nX-bcc: \\nX-Folder: \\\\Phillip_Allen_Jan2002_1\\\\Allen, Phillip K.\\\\'Sent Mail\\nX-Origin: Allen-P\\nX-FileName: pallen (Non-Privileged).pst\\n\\nHere is our forecast\\n\\n \"\n",
      " \"Message-ID: <15464986.1075855378456.JavaMail.evans@thyme>\\nDate: Fri, 4 May 2001 13:51:00 -0700 (PDT)\\nFrom: phillip.allen@enron.com\\nTo: john.lavorato@enron.com\\nSubject: Re:\\nMime-Version: 1.0\\nContent-Type: text/plain; charset=us-ascii\\nContent-Transfer-Encoding: 7bit\\nX-From: Phillip K Allen\\nX-To: John J Lavorato <John J Lavorato/ENRON@enronXgate@ENRON>\\nX-cc: \\nX-bcc: \\nX-Folder: \\\\Phillip_Allen_Jan2002_1\\\\Allen, Phillip K.\\\\'Sent Mail\\nX-Origin: Allen-P\\nX-FileName: pallen (Non-Privileged).pst\\n\\nTraveling to have a business meeting takes the fun out of the trip.  Especially if you have to prepare a presentation.  I would suggest holding the business plan meetings here then take a trip without any formal business meetings.  I would even try and get some honest opinions on whether a trip is even desired or necessary.\\n\\nAs far as the business meetings, I think it would be more productive to try and stimulate discussions across the different groups about what is working and what is not.  Too often the presenter speaks and the others are quiet just waiting for their turn.   The meetings might be better if held in a round table discussion format.  \\n\\nMy suggestion for where to go is Austin.  Play golf and rent a ski boat and jet ski's.  Flying somewhere takes too much time.\\n\"]\n",
      "Loaded 517401 emails from /Users/calderkatyal/Desktop/CPSC477/CPSC-477-Final-Project/data/raw/emails.csv\n"
     ]
    },
    {
     "name": "stderr",
     "output_type": "stream",
     "text": [
      "/Users/calderkatyal/Desktop/CPSC477/CPSC-477-Final-Project/src/preprocessing/preprocess.py:157: UserWarning: This pattern is interpreted as a regular expression, and has match groups. To actually get the groups, use str.extract.\n",
      "  df = df[df['file'].str.contains(r'(sent|inbox)', flags=re.IGNORECASE, na=False)]\n",
      "2025-03-29 15:57:35,628 - INFO - Starting parallel processing...\n",
      "Processing emails: 100%|██████████| 208487/208487 [00:19<00:00, 10785.85it/s]\n",
      "2025-03-29 15:58:20,143 - INFO - Organizing by person...\n"
     ]
    },
    {
     "ename": "AttributeError",
     "evalue": "'float' object has no attribute 'split'",
     "output_type": "error",
     "traceback": [
      "\u001b[0;31m---------------------------------------------------------------------------\u001b[0m",
      "\u001b[0;31mAttributeError\u001b[0m                            Traceback (most recent call last)",
      "Cell \u001b[0;32mIn[12], line 37\u001b[0m\n\u001b[1;32m     35\u001b[0m \u001b[38;5;66;03m# Process emails with progress tracking\u001b[39;00m\n\u001b[1;32m     36\u001b[0m logger\u001b[38;5;241m.\u001b[39minfo(\u001b[38;5;124m\"\u001b[39m\u001b[38;5;130;01m\\n\u001b[39;00m\u001b[38;5;124mStarting preprocessing pipeline...\u001b[39m\u001b[38;5;124m\"\u001b[39m)\n\u001b[0;32m---> 37\u001b[0m person_dfs \u001b[38;5;241m=\u001b[39m preprocess_emails(RAW_CSV_PATH, PROCESSED_PATH)\n\u001b[1;32m     39\u001b[0m \u001b[38;5;66;03m# Display results\u001b[39;00m\n\u001b[1;32m     40\u001b[0m logger\u001b[38;5;241m.\u001b[39minfo(\u001b[38;5;124m\"\u001b[39m\u001b[38;5;130;01m\\n\u001b[39;00m\u001b[38;5;124mProcessing complete. Sample results:\u001b[39m\u001b[38;5;124m\"\u001b[39m)\n",
      "File \u001b[0;32m~/Desktop/CPSC477/CPSC-477-Final-Project/src/preprocessing/preprocess.py:163\u001b[0m, in \u001b[0;36mpreprocess_emails\u001b[0;34m(input_path, output_path, workers)\u001b[0m\n\u001b[1;32m    160\u001b[0m processed_df \u001b[38;5;241m=\u001b[39m parallel_preprocess(df, workers\u001b[38;5;241m=\u001b[39mworkers)\n\u001b[1;32m    162\u001b[0m logger\u001b[38;5;241m.\u001b[39minfo(\u001b[38;5;124m\"\u001b[39m\u001b[38;5;124mOrganizing by person...\u001b[39m\u001b[38;5;124m\"\u001b[39m)\n\u001b[0;32m--> 163\u001b[0m person_dfs \u001b[38;5;241m=\u001b[39m organize_by_person(processed_df)\n\u001b[1;32m    165\u001b[0m logger\u001b[38;5;241m.\u001b[39minfo(\u001b[38;5;124m\"\u001b[39m\u001b[38;5;124mSaving processed data...\u001b[39m\u001b[38;5;124m\"\u001b[39m)\n\u001b[1;32m    166\u001b[0m save(processed_df, output_path)\n",
      "File \u001b[0;32m~/Desktop/CPSC477/CPSC-477-Final-Project/src/preprocessing/preprocess.py:132\u001b[0m, in \u001b[0;36morganize_by_person\u001b[0;34m(df)\u001b[0m\n\u001b[1;32m    129\u001b[0m         people\u001b[38;5;241m.\u001b[39mupdate(cc_emails)\n\u001b[1;32m    130\u001b[0m     \u001b[38;5;28;01mreturn\u001b[39;00m \u001b[38;5;28mlist\u001b[39m(people)\n\u001b[0;32m--> 132\u001b[0m df[\u001b[38;5;124m'\u001b[39m\u001b[38;5;124mpeople\u001b[39m\u001b[38;5;124m'\u001b[39m] \u001b[38;5;241m=\u001b[39m df\u001b[38;5;241m.\u001b[39mapply(get_people, axis\u001b[38;5;241m=\u001b[39m\u001b[38;5;241m1\u001b[39m)\n\u001b[1;32m    133\u001b[0m df_exploded \u001b[38;5;241m=\u001b[39m df\u001b[38;5;241m.\u001b[39mexplode(\u001b[38;5;124m'\u001b[39m\u001b[38;5;124mpeople\u001b[39m\u001b[38;5;124m'\u001b[39m)\n\u001b[1;32m    135\u001b[0m \u001b[38;5;66;03m# Only keep rows where the person is a known Enron mailbox\u001b[39;00m\n",
      "File \u001b[0;32m/opt/anaconda3/envs/CPSC477V2/lib/python3.12/site-packages/pandas/core/frame.py:10374\u001b[0m, in \u001b[0;36mDataFrame.apply\u001b[0;34m(self, func, axis, raw, result_type, args, by_row, engine, engine_kwargs, **kwargs)\u001b[0m\n\u001b[1;32m  10360\u001b[0m \u001b[38;5;28;01mfrom\u001b[39;00m \u001b[38;5;21;01mpandas\u001b[39;00m\u001b[38;5;21;01m.\u001b[39;00m\u001b[38;5;21;01mcore\u001b[39;00m\u001b[38;5;21;01m.\u001b[39;00m\u001b[38;5;21;01mapply\u001b[39;00m \u001b[38;5;28;01mimport\u001b[39;00m frame_apply\n\u001b[1;32m  10362\u001b[0m op \u001b[38;5;241m=\u001b[39m frame_apply(\n\u001b[1;32m  10363\u001b[0m     \u001b[38;5;28mself\u001b[39m,\n\u001b[1;32m  10364\u001b[0m     func\u001b[38;5;241m=\u001b[39mfunc,\n\u001b[0;32m   (...)\u001b[0m\n\u001b[1;32m  10372\u001b[0m     kwargs\u001b[38;5;241m=\u001b[39mkwargs,\n\u001b[1;32m  10373\u001b[0m )\n\u001b[0;32m> 10374\u001b[0m \u001b[38;5;28;01mreturn\u001b[39;00m op\u001b[38;5;241m.\u001b[39mapply()\u001b[38;5;241m.\u001b[39m__finalize__(\u001b[38;5;28mself\u001b[39m, method\u001b[38;5;241m=\u001b[39m\u001b[38;5;124m\"\u001b[39m\u001b[38;5;124mapply\u001b[39m\u001b[38;5;124m\"\u001b[39m)\n",
      "File \u001b[0;32m/opt/anaconda3/envs/CPSC477V2/lib/python3.12/site-packages/pandas/core/apply.py:916\u001b[0m, in \u001b[0;36mFrameApply.apply\u001b[0;34m(self)\u001b[0m\n\u001b[1;32m    913\u001b[0m \u001b[38;5;28;01melif\u001b[39;00m \u001b[38;5;28mself\u001b[39m\u001b[38;5;241m.\u001b[39mraw:\n\u001b[1;32m    914\u001b[0m     \u001b[38;5;28;01mreturn\u001b[39;00m \u001b[38;5;28mself\u001b[39m\u001b[38;5;241m.\u001b[39mapply_raw(engine\u001b[38;5;241m=\u001b[39m\u001b[38;5;28mself\u001b[39m\u001b[38;5;241m.\u001b[39mengine, engine_kwargs\u001b[38;5;241m=\u001b[39m\u001b[38;5;28mself\u001b[39m\u001b[38;5;241m.\u001b[39mengine_kwargs)\n\u001b[0;32m--> 916\u001b[0m \u001b[38;5;28;01mreturn\u001b[39;00m \u001b[38;5;28mself\u001b[39m\u001b[38;5;241m.\u001b[39mapply_standard()\n",
      "File \u001b[0;32m/opt/anaconda3/envs/CPSC477V2/lib/python3.12/site-packages/pandas/core/apply.py:1063\u001b[0m, in \u001b[0;36mFrameApply.apply_standard\u001b[0;34m(self)\u001b[0m\n\u001b[1;32m   1061\u001b[0m \u001b[38;5;28;01mdef\u001b[39;00m \u001b[38;5;21mapply_standard\u001b[39m(\u001b[38;5;28mself\u001b[39m):\n\u001b[1;32m   1062\u001b[0m     \u001b[38;5;28;01mif\u001b[39;00m \u001b[38;5;28mself\u001b[39m\u001b[38;5;241m.\u001b[39mengine \u001b[38;5;241m==\u001b[39m \u001b[38;5;124m\"\u001b[39m\u001b[38;5;124mpython\u001b[39m\u001b[38;5;124m\"\u001b[39m:\n\u001b[0;32m-> 1063\u001b[0m         results, res_index \u001b[38;5;241m=\u001b[39m \u001b[38;5;28mself\u001b[39m\u001b[38;5;241m.\u001b[39mapply_series_generator()\n\u001b[1;32m   1064\u001b[0m     \u001b[38;5;28;01melse\u001b[39;00m:\n\u001b[1;32m   1065\u001b[0m         results, res_index \u001b[38;5;241m=\u001b[39m \u001b[38;5;28mself\u001b[39m\u001b[38;5;241m.\u001b[39mapply_series_numba()\n",
      "File \u001b[0;32m/opt/anaconda3/envs/CPSC477V2/lib/python3.12/site-packages/pandas/core/apply.py:1081\u001b[0m, in \u001b[0;36mFrameApply.apply_series_generator\u001b[0;34m(self)\u001b[0m\n\u001b[1;32m   1078\u001b[0m \u001b[38;5;28;01mwith\u001b[39;00m option_context(\u001b[38;5;124m\"\u001b[39m\u001b[38;5;124mmode.chained_assignment\u001b[39m\u001b[38;5;124m\"\u001b[39m, \u001b[38;5;28;01mNone\u001b[39;00m):\n\u001b[1;32m   1079\u001b[0m     \u001b[38;5;28;01mfor\u001b[39;00m i, v \u001b[38;5;129;01min\u001b[39;00m \u001b[38;5;28menumerate\u001b[39m(series_gen):\n\u001b[1;32m   1080\u001b[0m         \u001b[38;5;66;03m# ignore SettingWithCopy here in case the user mutates\u001b[39;00m\n\u001b[0;32m-> 1081\u001b[0m         results[i] \u001b[38;5;241m=\u001b[39m \u001b[38;5;28mself\u001b[39m\u001b[38;5;241m.\u001b[39mfunc(v, \u001b[38;5;241m*\u001b[39m\u001b[38;5;28mself\u001b[39m\u001b[38;5;241m.\u001b[39margs, \u001b[38;5;241m*\u001b[39m\u001b[38;5;241m*\u001b[39m\u001b[38;5;28mself\u001b[39m\u001b[38;5;241m.\u001b[39mkwargs)\n\u001b[1;32m   1082\u001b[0m         \u001b[38;5;28;01mif\u001b[39;00m \u001b[38;5;28misinstance\u001b[39m(results[i], ABCSeries):\n\u001b[1;32m   1083\u001b[0m             \u001b[38;5;66;03m# If we have a view on v, we need to make a copy because\u001b[39;00m\n\u001b[1;32m   1084\u001b[0m             \u001b[38;5;66;03m#  series_generator will swap out the underlying data\u001b[39;00m\n\u001b[1;32m   1085\u001b[0m             results[i] \u001b[38;5;241m=\u001b[39m results[i]\u001b[38;5;241m.\u001b[39mcopy(deep\u001b[38;5;241m=\u001b[39m\u001b[38;5;28;01mFalse\u001b[39;00m)\n",
      "File \u001b[0;32m~/Desktop/CPSC477/CPSC-477-Final-Project/src/preprocessing/preprocess.py:128\u001b[0m, in \u001b[0;36morganize_by_person.<locals>.get_people\u001b[0;34m(row)\u001b[0m\n\u001b[1;32m    126\u001b[0m     people\u001b[38;5;241m.\u001b[39madd(row[\u001b[38;5;124m'\u001b[39m\u001b[38;5;124mrecipient\u001b[39m\u001b[38;5;124m'\u001b[39m])\n\u001b[1;32m    127\u001b[0m \u001b[38;5;28;01mif\u001b[39;00m row[\u001b[38;5;124m'\u001b[39m\u001b[38;5;124mcc\u001b[39m\u001b[38;5;124m'\u001b[39m] \u001b[38;5;129;01mand\u001b[39;00m row[\u001b[38;5;124m'\u001b[39m\u001b[38;5;124mcc\u001b[39m\u001b[38;5;124m'\u001b[39m] \u001b[38;5;241m!=\u001b[39m \u001b[38;5;124m\"\u001b[39m\u001b[38;5;124mUnknown\u001b[39m\u001b[38;5;124m\"\u001b[39m:\n\u001b[0;32m--> 128\u001b[0m     cc_emails \u001b[38;5;241m=\u001b[39m [addr\u001b[38;5;241m.\u001b[39mstrip() \u001b[38;5;28;01mfor\u001b[39;00m addr \u001b[38;5;129;01min\u001b[39;00m row[\u001b[38;5;124m'\u001b[39m\u001b[38;5;124mcc\u001b[39m\u001b[38;5;124m'\u001b[39m]\u001b[38;5;241m.\u001b[39msplit(\u001b[38;5;124m'\u001b[39m\u001b[38;5;124m,\u001b[39m\u001b[38;5;124m'\u001b[39m) \u001b[38;5;28;01mif\u001b[39;00m addr\u001b[38;5;241m.\u001b[39mstrip()]\n\u001b[1;32m    129\u001b[0m     people\u001b[38;5;241m.\u001b[39mupdate(cc_emails)\n\u001b[1;32m    130\u001b[0m \u001b[38;5;28;01mreturn\u001b[39;00m \u001b[38;5;28mlist\u001b[39m(people)\n",
      "\u001b[0;31mAttributeError\u001b[0m: 'float' object has no attribute 'split'"
     ]
    }
   ],
   "source": [
    "\"\"\"\n",
    "Data exploration notebook for email dataset.\n",
    "Shows preprocessing results and basic statistics.\n",
    "\"\"\"\n",
    "\n",
    "import os\n",
    "import pandas as pd\n",
    "from preprocess import preprocess_emails\n",
    "from tqdm import tqdm\n",
    "import logging\n",
    "\n",
    "# Setup logging and tqdm\n",
    "tqdm.pandas()\n",
    "logging.basicConfig(level=logging.INFO, format='%(asctime)s - %(levelname)s - %(message)s')\n",
    "logger = logging.getLogger(__name__)\n",
    "\n",
    "# Configure file paths\n",
    "BASE_DIR = os.path.abspath(os.path.join(os.path.dirname('__file__'), '..', '..'))\n",
    "RAW_CSV_PATH = os.path.join(BASE_DIR, 'data', 'raw', 'emails.csv') # Comment for testing\n",
    "#RAW_CSV_PATH = os.path.join(BASE_DIR, 'data, 'raw_subset', 'emails.csv') # Uncomment for testing\n",
    "PROCESSED_PATH = os.path.join(BASE_DIR, 'data', 'processed', 'emails.parquet')\n",
    "\n",
    "# Data validation\n",
    "if not os.path.exists(RAW_CSV_PATH):\n",
    "    raise FileNotFoundError(f\"Required input file missing: {RAW_CSV_PATH}\")\n",
    "\n",
    "# Load and inspect raw data\n",
    "logger.info(\"Inspecting raw data...\")\n",
    "raw_df = pd.read_csv(RAW_CSV_PATH)\n",
    "logger.info(f\"Dataset contains {len(raw_df)} raw emails\")\n",
    "logger.info(f\"Columns: {raw_df.columns.tolist()}\")\n",
    "logger.info(\"\\nSample raw messages:\")\n",
    "print(raw_df[\"message\"].head(2).values)\n",
    "\n",
    "# Process emails with progress tracking\n",
    "logger.info(\"\\nStarting preprocessing pipeline...\")\n",
    "person_dfs = preprocess_emails(RAW_CSV_PATH, PROCESSED_PATH)\n",
    "\n",
    "# Display results\n",
    "logger.info(\"\\nProcessing complete. Sample results:\")\n",
    "print(\"=\" * 60)\n",
    "for person, df in list(person_dfs.items())[:2]:  # First 2 people\n",
    "    print(f\"\\n{person} ({len(df)} emails):\")\n",
    "    print(\"-\" * 60)\n",
    "    for idx, row in df.head(2).iterrows():  # First 2 emails\n",
    "        print(f\"\\n{row['direction'].upper()} - {row['date']}\")\n",
    "        print(f\"Subject: {row['subject']}\")\n",
    "        print(f\"\\nBody preview: {row['body'][:200]}...\")\n",
    "        print(\"-\" * 40)\n",
    "\n",
    "# Dataset statistics\n",
    "print(\"\\n\" + \"=\" * 60)\n",
    "print(\"Dataset Statistics\".center(60))\n",
    "print(\"=\" * 60)\n",
    "total_emails = sum(len(df) for df in person_dfs.values())\n",
    "unique_senders = len({df['sender'].iloc[0] for df in person_dfs.values()})\n",
    "\n",
    "print(f\"\\n{'Total emails:':<20}{total_emails:>10}\")\n",
    "print(f\"{'Unique people:':<20}{len(person_dfs):>10}\")\n",
    "print(f\"{'Primary senders:':<20}{unique_senders:>10}\")\n",
    "\n",
    "# Email distribution\n",
    "print(\"\\nTop 5 people by email count:\")\n",
    "top_people = sorted(person_dfs.items(), key=lambda x: len(x[1]), reverse=True)[:5]\n",
    "for person, df in top_people:\n",
    "    sent = len(df[df['direction'] == 'sent'])\n",
    "    received = len(df[df['direction'] == 'received'])\n",
    "    print(f\"{person:<30} {len(df):>5} (S:{sent}/R:{received})\")\n",
    "\n",
    "print(\"~\" * 60)\n",
    "\n",
    "for person, df in person_dfs.items():\n",
    "    print(f\"{person}: {len(df)} emails\")"
   ]
  },
  {
   "cell_type": "code",
   "execution_count": 2,
   "metadata": {},
   "outputs": [
    {
     "data": {
      "text/plain": [
       "84634"
      ]
     },
     "execution_count": 2,
     "metadata": {},
     "output_type": "execute_result"
    }
   ],
   "source": [
    "len(person_dfs)  # For Jupyter notebook to display the number of unique senders"
   ]
  },
  {
   "cell_type": "markdown",
   "metadata": {},
   "source": []
  }
 ],
 "metadata": {
  "kernelspec": {
   "display_name": "CPSC477V2",
   "language": "python",
   "name": "python3"
  },
  "language_info": {
   "codemirror_mode": {
    "name": "ipython",
    "version": 3
   },
   "file_extension": ".py",
   "mimetype": "text/x-python",
   "name": "python",
   "nbconvert_exporter": "python",
   "pygments_lexer": "ipython3",
   "version": "3.12.9"
  }
 },
 "nbformat": 4,
 "nbformat_minor": 2
}
