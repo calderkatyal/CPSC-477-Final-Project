{
 "cells": [
  {
   "cell_type": "code",
   "execution_count": 2,
   "metadata": {},
   "outputs": [
    {
     "name": "stderr",
     "output_type": "stream",
     "text": [
      "2025-03-29 16:41:09,417 - INFO - Inspecting raw data...\n",
      "2025-03-29 16:41:20,715 - INFO - Dataset contains 517401 raw emails\n",
      "2025-03-29 16:41:20,717 - INFO - Columns: ['file', 'message']\n",
      "2025-03-29 16:41:20,718 - INFO - \n",
      "Sample raw messages:\n",
      "2025-03-29 16:41:20,722 - INFO - \n",
      "Starting preprocessing pipeline...\n",
      "2025-03-29 16:41:20,722 - INFO - Loading raw emails...\n"
     ]
    },
    {
     "name": "stdout",
     "output_type": "stream",
     "text": [
      "[\"Message-ID: <18782981.1075855378110.JavaMail.evans@thyme>\\nDate: Mon, 14 May 2001 16:39:00 -0700 (PDT)\\nFrom: phillip.allen@enron.com\\nTo: tim.belden@enron.com\\nSubject: \\nMime-Version: 1.0\\nContent-Type: text/plain; charset=us-ascii\\nContent-Transfer-Encoding: 7bit\\nX-From: Phillip K Allen\\nX-To: Tim Belden <Tim Belden/Enron@EnronXGate>\\nX-cc: \\nX-bcc: \\nX-Folder: \\\\Phillip_Allen_Jan2002_1\\\\Allen, Phillip K.\\\\'Sent Mail\\nX-Origin: Allen-P\\nX-FileName: pallen (Non-Privileged).pst\\n\\nHere is our forecast\\n\\n \"\n",
      " \"Message-ID: <15464986.1075855378456.JavaMail.evans@thyme>\\nDate: Fri, 4 May 2001 13:51:00 -0700 (PDT)\\nFrom: phillip.allen@enron.com\\nTo: john.lavorato@enron.com\\nSubject: Re:\\nMime-Version: 1.0\\nContent-Type: text/plain; charset=us-ascii\\nContent-Transfer-Encoding: 7bit\\nX-From: Phillip K Allen\\nX-To: John J Lavorato <John J Lavorato/ENRON@enronXgate@ENRON>\\nX-cc: \\nX-bcc: \\nX-Folder: \\\\Phillip_Allen_Jan2002_1\\\\Allen, Phillip K.\\\\'Sent Mail\\nX-Origin: Allen-P\\nX-FileName: pallen (Non-Privileged).pst\\n\\nTraveling to have a business meeting takes the fun out of the trip.  Especially if you have to prepare a presentation.  I would suggest holding the business plan meetings here then take a trip without any formal business meetings.  I would even try and get some honest opinions on whether a trip is even desired or necessary.\\n\\nAs far as the business meetings, I think it would be more productive to try and stimulate discussions across the different groups about what is working and what is not.  Too often the presenter speaks and the others are quiet just waiting for their turn.   The meetings might be better if held in a round table discussion format.  \\n\\nMy suggestion for where to go is Austin.  Play golf and rent a ski boat and jet ski's.  Flying somewhere takes too much time.\\n\"]\n",
      "Loaded 517401 emails from /Users/calderkatyal/Desktop/CPSC477/CPSC-477-Final-Project/data/raw/emails.csv\n"
     ]
    },
    {
     "name": "stderr",
     "output_type": "stream",
     "text": [
      "/Users/calderkatyal/Desktop/CPSC477/CPSC-477-Final-Project/src/preprocessing/preprocess.py:111: UserWarning: This pattern is interpreted as a regular expression, and has match groups. To actually get the groups, use str.extract.\n",
      "  df = df[df['file'].str.contains(r'(sent|inbox)', flags=re.IGNORECASE, na=False)].copy()\n",
      "2025-03-29 16:41:30,947 - INFO - Retained 208487 emails after filtering for 'sent' or 'inbox' in file path.\n",
      "2025-03-29 16:41:30,948 - INFO - Parsing and cleaning emails...\n",
      "Processing emails: 100%|██████████| 208487/208487 [00:19<00:00, 10552.31it/s]\n",
      "2025-03-29 16:42:13,932 - INFO - Organizing emails by person...\n",
      "2025-03-29 16:42:14,210 - INFO - Saving cleaned dataset...\n",
      "2025-03-29 16:42:16,361 - INFO - Completed: 150 people with 208487 emails total.\n",
      "2025-03-29 16:42:16,393 - INFO - \n",
      "Processing complete. Sample results:\n"
     ]
    },
    {
     "name": "stdout",
     "output_type": "stream",
     "text": [
      "Saved cleaned data at /Users/calderkatyal/Desktop/CPSC477/CPSC-477-Final-Project/data/processed/emails.parquet\n",
      "============================================================\n",
      "\n",
      "📨 allen-p (1623 emails):\n",
      "------------------------------------------------------------\n",
      "\n",
      "Date:    2001-05-14 19:39:00\n",
      "Subject: mime version 1 0\n",
      "\n",
      "Body preview: here is our forecast...\n",
      "----------------------------------------\n",
      "\n",
      "Date:    2001-05-04 16:51:00\n",
      "Subject: re\n",
      "\n",
      "Body preview: traveling to have a business meeting takes the fun out of the trip especially if you have to prepare a presentation i would suggest holding the business plan meetings here then take a trip without any...\n",
      "----------------------------------------\n",
      "\n",
      "📨 arnold-j (2579 emails):\n",
      "------------------------------------------------------------\n",
      "\n",
      "Date:    2000-12-13 16:09:00\n",
      "Subject: re spreads\n",
      "\n",
      "Body preview: saw a lot of the bulls sell summer against length in front to mitigate margins absolute position limits var as these guys are taking off the front they are also buying back summer el paso large buyer ...\n",
      "----------------------------------------\n",
      "\n",
      "Date:    2000-12-11 11:51:00\n",
      "Subject: re summer inverses\n",
      "\n",
      "Body preview: amazing how with cash futures at 1 and the back such a piece that f g under such pressure month 2 has been the strongest part of the board all year will be interesting to see what happens when h j is ...\n",
      "----------------------------------------\n",
      "\n",
      "============================================================\n",
      "                     Dataset Statistics                     \n",
      "============================================================\n",
      "\n",
      "Total emails:           208487\n",
      "Unique mailboxes:          150\n",
      "\n",
      "Top 10 people by email count:\n",
      "dasovich-j                     13953 emails\n",
      "jones-t                        10175 emails\n",
      "mann-k                          9966 emails\n",
      "kaminski-v                      9427 emails\n",
      "shackleton-s                    8800 emails\n",
      "nemec-g                         6256 emails\n",
      "taylor-m                        5983 emails\n",
      "germany-c                       5546 emails\n",
      "bass-e                          3948 emails\n",
      "beck-s                          3616 emails\n",
      "~~~~~~~~~~~~~~~~~~~~~~~~~~~~~~~~~~~~~~~~~~~~~~~~~~~~~~~~~~~~\n"
     ]
    }
   ],
   "source": [
    "\"\"\"\n",
    "Data exploration notebook for email dataset.\n",
    "Shows preprocessing results and basic statistics (by mailbox owner).\n",
    "\"\"\"\n",
    "\n",
    "import os\n",
    "import pandas as pd\n",
    "from preprocess import preprocess_emails\n",
    "from tqdm import tqdm\n",
    "import logging\n",
    "\n",
    "# Setup logging and tqdm\n",
    "tqdm.pandas()\n",
    "logging.basicConfig(level=logging.INFO, format='%(asctime)s - %(levelname)s - %(message)s')\n",
    "logger = logging.getLogger(__name__)\n",
    "\n",
    "# === File paths ===\n",
    "BASE_DIR = os.path.abspath(os.path.join(os.path.dirname('__file__'), '..', '..'))\n",
    "\n",
    "# Use raw_subset for testing; switch to full data when ready\n",
    "# RAW_CSV_PATH = os.path.join(BASE_DIR, 'data', 'raw_subset', 'emails.csv')\n",
    "RAW_CSV_PATH = os.path.join(BASE_DIR, 'data', 'raw', 'emails.csv')\n",
    "PROCESSED_PATH = os.path.join(BASE_DIR, 'data', 'processed', 'emails.parquet')\n",
    "\n",
    "# === Validate file ===\n",
    "if not os.path.exists(RAW_CSV_PATH):\n",
    "    raise FileNotFoundError(f\"Required input file missing: {RAW_CSV_PATH}\")\n",
    "\n",
    "# === Load and preview raw data ===\n",
    "logger.info(\"Inspecting raw data...\")\n",
    "raw_df = pd.read_csv(RAW_CSV_PATH)\n",
    "logger.info(f\"Dataset contains {len(raw_df)} raw emails\")\n",
    "logger.info(f\"Columns: {raw_df.columns.tolist()}\")\n",
    "\n",
    "logger.info(\"\\nSample raw messages:\")\n",
    "print(raw_df[\"message\"].head(2).values)\n",
    "\n",
    "# === Run preprocessing pipeline ===\n",
    "logger.info(\"\\nStarting preprocessing pipeline...\")\n",
    "person_dfs = preprocess_emails(RAW_CSV_PATH, PROCESSED_PATH)\n",
    "\n",
    "# === Display sample results ===\n",
    "logger.info(\"\\nProcessing complete. Sample results:\")\n",
    "print(\"=\" * 60)\n",
    "for person, df in list(person_dfs.items())[:2]:  # First 2 people\n",
    "    print(f\"\\n📨 {person} ({len(df)} emails):\")\n",
    "    print(\"-\" * 60)\n",
    "    for idx, row in df.head(2).iterrows():  # First 2 emails per person\n",
    "        print(f\"\\nDate:    {row['date']}\")\n",
    "        print(f\"Subject: {row['subject']}\")\n",
    "        print(f\"\\nBody preview: {row['body'][:200]}...\")\n",
    "        print(\"-\" * 40)\n",
    "\n",
    "# === Dataset statistics ===\n",
    "print(\"\\n\" + \"=\" * 60)\n",
    "print(\"Dataset Statistics\".center(60))\n",
    "print(\"=\" * 60)\n",
    "\n",
    "total_emails = sum(len(df) for df in person_dfs.values())\n",
    "print(f\"\\n{'Total emails:':<20}{total_emails:>10}\")\n",
    "print(f\"{'Unique mailboxes:':<20}{len(person_dfs):>10}\")\n",
    "\n",
    "# === Top 10 mailbox owners by email count ===\n",
    "print(\"\\nTop 10 people by email count:\")\n",
    "top_people = sorted(person_dfs.items(), key=lambda x: len(x[1]), reverse=True)[:10]\n",
    "for person, df in top_people:\n",
    "    print(f\"{person:<30} {len(df):>5} emails\")\n",
    "\n",
    "print(\"~\" * 60)"
   ]
  },
  {
   "cell_type": "code",
   "execution_count": 2,
   "metadata": {},
   "outputs": [
    {
     "data": {
      "text/plain": [
       "84634"
      ]
     },
     "execution_count": 2,
     "metadata": {},
     "output_type": "execute_result"
    }
   ],
   "source": [
    "len(person_dfs)  # For Jupyter notebook to display the number of unique senders"
   ]
  },
  {
   "cell_type": "markdown",
   "metadata": {},
   "source": []
  }
 ],
 "metadata": {
  "kernelspec": {
   "display_name": "CPSC477V2",
   "language": "python",
   "name": "python3"
  },
  "language_info": {
   "codemirror_mode": {
    "name": "ipython",
    "version": 3
   },
   "file_extension": ".py",
   "mimetype": "text/x-python",
   "name": "python",
   "nbconvert_exporter": "python",
   "pygments_lexer": "ipython3",
   "version": "3.12.9"
  }
 },
 "nbformat": 4,
 "nbformat_minor": 2
}
